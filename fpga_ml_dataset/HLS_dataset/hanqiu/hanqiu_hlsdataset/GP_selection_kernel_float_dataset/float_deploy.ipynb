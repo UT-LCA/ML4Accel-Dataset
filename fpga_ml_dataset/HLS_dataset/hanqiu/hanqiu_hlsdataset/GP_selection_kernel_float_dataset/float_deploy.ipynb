{
 "cells": [
  {
   "cell_type": "code",
   "execution_count": 78,
   "id": "5dbb3acf-c1f8-4eac-80bc-94ad916398fa",
   "metadata": {},
   "outputs": [],
   "source": [
    "import sys\n",
    "import numpy as np \n",
    "import os\n",
    "import time as time_1\n",
    "import math\n",
    "\n",
    "from datetime import datetime\n",
    "from pynq import Overlay\n",
    "import pynq\n",
    "import struct\n",
    "from multiprocessing import Process, Pipe, Queue, Event, Manager"
   ]
  },
  {
   "cell_type": "code",
   "execution_count": 79,
   "id": "d8254001-d667-442f-90c3-5e45bce176a2",
   "metadata": {},
   "outputs": [],
   "source": [
    "client_num = 6 # You can freely change the number of clients between 1-10 for this small scale design (float point)"
   ]
  },
  {
   "cell_type": "code",
   "execution_count": null,
   "id": "9c109cc8-81f8-4411-97d9-74ffb01390ea",
   "metadata": {},
   "outputs": [],
   "source": [
    "overlay = pynq.Overlay('GP_kernel.bit')\n",
    "arraySize = 100\n",
    "mu_buffer = pynq.allocate((100), np.float32)\n",
    "a_buffer = pynq.allocate((100), np.float32)\n",
    "beta_buffer = pynq.allocate((100), np.float32)\n",
    "sigma_buffer = pynq.allocate((100, 100), np.float32)\n",
    "\n",
    "mu_float = np.loadtxt(\"mu_float.txt\", dtype = np.float32)\n",
    "a_float = np.loadtxt(\"a_float.txt\", dtype = np.float32)\n",
    "beta_float = np.loadtxt(\"beta_float.txt\", dtype = np.float32)\n",
    "sigma_float = np.loadtxt(\"sigma_float.txt\", dtype = np.float32)\n",
    "\n",
    "np.copyto(mu_buffer, mu_float)\n",
    "np.copyto(a_buffer, a_float)\n",
    "np.copyto(beta_buffer, beta_float)\n",
    "np.copyto(sigma_buffer, sigma_float)\n",
    "\n",
    "client_number_buffer = pynq.allocate((10), np.int32)\n",
    "client_index_list_buffer = pynq.allocate((10), np.int32)\n",
    "result_buffer = pynq.allocate((100, 100), np.float32)\n",
    "result_buffer_2 = pynq.allocate((100), np.float32)\n",
    "\n",
    "client_number_buffer[0] = client_num\n",
    "GP_kernel = overlay.GP_kernel_0\n",
    "\n",
    "GP_kernel.write(0x10, mu_buffer.physical_address)\n",
    "GP_kernel.write(0x1c, sigma_buffer.physical_address)\n",
    "GP_kernel.write(0x28, a_buffer.physical_address)\n",
    "GP_kernel.write(0x34, beta_buffer.physical_address)\n",
    "GP_kernel.write(0x40, client_number_buffer.physical_address)\n",
    "GP_kernel.write(0x4c, client_index_list_buffer.physical_address)\n",
    "GP_kernel.write(0x58, result_buffer.physical_address)\n",
    "GP_kernel.write(0x64, result_buffer_2.physical_address)\n",
    "\n",
    "GP_kernel.write(0x00, 1)\n",
    "isready = GP_kernel.read(0x00)\n",
    "\n",
    "while( isready == 1 ):\n",
    "    isready = GP_kernel.read(0x00)\n",
    "    \n",
    "print(client_index_list_buffer)\n"
   ]
  },
  {
   "cell_type": "code",
   "execution_count": null,
   "id": "a0ab7cc1-091b-4732-b8f7-b8fbc43b4474",
   "metadata": {},
   "outputs": [],
   "source": []
  },
  {
   "cell_type": "code",
   "execution_count": null,
   "id": "4cf904b5-53a6-47b2-a47f-12c3d111399e",
   "metadata": {},
   "outputs": [],
   "source": []
  },
  {
   "cell_type": "code",
   "execution_count": null,
   "id": "8c006a86-c2fa-4b7e-ab93-08bdac74d476",
   "metadata": {},
   "outputs": [],
   "source": []
  }
 ],
 "metadata": {
  "kernelspec": {
   "display_name": "Python 3 (ipykernel)",
   "language": "python",
   "name": "python3"
  },
  "language_info": {
   "codemirror_mode": {
    "name": "ipython",
    "version": 3
   },
   "file_extension": ".py",
   "mimetype": "text/x-python",
   "name": "python",
   "nbconvert_exporter": "python",
   "pygments_lexer": "ipython3",
   "version": "3.8.10"
  }
 },
 "nbformat": 4,
 "nbformat_minor": 5
}
